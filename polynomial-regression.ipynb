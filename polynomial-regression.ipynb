{
 "cells": [
  {
   "cell_type": "markdown",
   "metadata": {},
   "source": [
    "## Polynomial Regression"
   ]
  },
  {
   "cell_type": "markdown",
   "metadata": {},
   "source": [
    "\n",
    "The example belows uses a temperature-energy dataset in order to illustrate how to perform a non linear regression.\n",
    "\n",
    "Workflow:\n",
    "1. Preparation\n",
    "    - Extract the dataset from the _power_demand_vs_temperature.csv_ \n",
    "    - Explore the dataset and check for missing values\n",
    "    - Plot the distribution\n",
    "    - Divide the dataset into train and test \n",
    "    - Create an evaluation function\n",
    "2. First experiment\n",
    "    - Create a linear model \n",
    "    - Train the model on X_train and y_train\n",
    "    - Evaluate the model on X_test and y_test\n",
    "    - Visualize the prediction of the model\n",
    "3. Second experiment\n",
    "    - Create a polynomial regression model with degree 2\n",
    "    - Train the model on X_train and y_train\n",
    "    - Evaluate the model on X_test and y_test\n",
    "    - Visualize the prediction of the model\n",
    "4. Third experiment\n",
    "    - repeat the steps done in the second experiment but with degree 3\n",
    "5. Third experiment\n",
    "    - repeat the steps done in the second experiment but with degree 4\n",
    "6. Compare the evaluation of each model\n"
   ]
  },
  {
   "cell_type": "code",
   "execution_count": 1,
   "metadata": {},
   "outputs": [],
   "source": [
    "# Code source: Filippo Orazi \n",
    "# License: BSD 3 clause\n",
    "\n",
    "import matplotlib.pyplot as plt\n",
    "import numpy as np\n",
    "import scipy.stats\n",
    "from sklearn import datasets, linear_model\n",
    "from sklearn.metrics import mean_squared_error, r2_score\n",
    "import pandas as pd\n",
    "from sklearn.preprocessing import PolynomialFeatures\n",
    "from sklearn.linear_model import LinearRegression\n",
    "\n",
    "random_state = 42 # this will be used to guarantee the repeatability of the experiment"
   ]
  }
 ],
 "metadata": {
  "kernelspec": {
   "display_name": "gpu_env",
   "language": "python",
   "name": "python3"
  },
  "language_info": {
   "codemirror_mode": {
    "name": "ipython",
    "version": 3
   },
   "file_extension": ".py",
   "mimetype": "text/x-python",
   "name": "python",
   "nbconvert_exporter": "python",
   "pygments_lexer": "ipython3",
   "version": "3.9.19"
  }
 },
 "nbformat": 4,
 "nbformat_minor": 2
}
